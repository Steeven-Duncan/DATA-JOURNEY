{
 "cells": [
  {
   "cell_type": "code",
   "execution_count": 1,
   "id": "initial_id",
   "metadata": {
    "collapsed": true,
    "ExecuteTime": {
     "end_time": "2024-04-03T08:10:15.172462900Z",
     "start_time": "2024-04-03T08:05:41.051561100Z"
    }
   },
   "outputs": [
    {
     "name": "stdout",
     "output_type": "stream",
     "text": [
      "Les offres d'emploi ont été sauvegardées dans 'emplois_filtres.csv'.\n"
     ]
    }
   ],
   "source": [
    "import requests\n",
    "from bs4 import BeautifulSoup\n",
    "import pandas as pd\n",
    "from datetime import datetime\n",
    "\n",
    "def scrape_all_pages(base_url, max_pages):\n",
    "    all_job_offers = []\n",
    "    page_num = 1\n",
    "\n",
    "    while page_num <= max_pages:\n",
    "        url = f\"{base_url}?page={page_num}\"\n",
    "        response = requests.get(url)\n",
    "        soup = BeautifulSoup(response.content, \"html.parser\")\n",
    "        \n",
    "        job_offers = scrape_job_offers(soup)\n",
    "        all_job_offers.extend(job_offers)\n",
    "        \n",
    "        page_num += 1\n",
    "\n",
    "    return all_job_offers\n",
    "\n",
    "def scrape_job_offers(soup):\n",
    "    job_offers = []\n",
    "\n",
    "    for job_card in soup.find_all('div', class_='employer-job-listing-single premium-job box-shadow bg-white mb-3 p-3 job-spotlight job-listing job_position_featured grid'):\n",
    "        secteur_elem = job_card.find_all_next('p', class_='text-muted')\n",
    "        sect = secteur_elem[1].text.split('·')[0]\n",
    "        secteur = sect.strip() if secteur_elem else \"N/A\"\n",
    "            \n",
    "        contrat_elem = secteur_elem[1].text.split('·')[1]\n",
    "        contrat = contrat_elem.strip() if contrat_elem != \"Non spécifé\" else \"N/A\"\n",
    "            \n",
    "        post_elem = job_card.find('h5')\n",
    "        poste = post_elem.find('a', href=True)\n",
    "        post = poste.text.strip() if poste else \"N/A\"\n",
    "            \n",
    "        company_elem = secteur_elem[2].text.split('·')[0]\n",
    "        company = company_elem.strip() if company_elem else \"N/A\"\n",
    "            \n",
    "        link_elem = post_elem.find('a')\n",
    "        link = link_elem.get('href')\n",
    "        \n",
    "        lieu_elem = secteur_elem[2].text.split('·')[1]\n",
    "        lieux = lieu_elem.split(',')[0]\n",
    "        lieu = lieux.strip() if lieux else \"N/A\"\n",
    "            \n",
    "        deadline_elem = secteur_elem[0].text.split('·')\n",
    "        if len(deadline_elem) > 1: \n",
    "            deadlines = deadline_elem[1].strip()\n",
    "            deadline  = deadlines.split('(')[1].strip()\n",
    "            deadline = deadline.split(')')[0].strip()\n",
    "        else:\n",
    "            deadline = \"N/A\"\n",
    "\n",
    "        job = {\n",
    "            \"Intitulé\": post,\n",
    "            \"Entreprise\": company,\n",
    "            \"Lien\": link,\n",
    "            \"Secteur\": secteur,\n",
    "            \"Type de contrat\": contrat,\n",
    "            \"Lieu\": lieu,\n",
    "            \"Deadline\": deadline\n",
    "        }\n",
    "        \n",
    "        job_offers.append(job)\n",
    "\n",
    "    return job_offers\n",
    "\n",
    "# Specify the base URL and the maximum number of pages to scrape\n",
    "base_url = \"https://jobs.doopinet.com/search\"\n",
    "max_pages = 100\n",
    "\n",
    "# Scrape all pages and store the job details in a DataFrame\n",
    "all_job_offers = scrape_all_pages(base_url, max_pages)\n",
    "df = pd.DataFrame(all_job_offers)\n",
    "\n",
    "# Convertissez la colonne de dates en format datetime\n",
    "df['Deadline'] = pd.to_datetime(df['Deadline'], errors='coerce')\n",
    "\n",
    "# Obtenez la date d'aujourd'hui\n",
    "aujourdhui = datetime.today().date()\n",
    "\n",
    "# Filtrez les lignes où la date est supérieure ou égale à la date d'aujourd'hui\n",
    "df = df[df['Deadline'].dt.date > aujourdhui]\n",
    "\n",
    "# Sauvegardez le DataFrame filtré dans un nouveau fichier CSV\n",
    "df.to_csv('emplois_filtres.csv', index=False)\n",
    "# \n",
    "# # Save the DataFrame to a CSV file\n",
    "# df.to_csv('emplois.csv', index=False)\n",
    "print(\"Les offres d'emploi ont été sauvegardées dans 'emplois_filtres.csv'.\")\n",
    "\n",
    "\n"
   ]
  },
  {
   "cell_type": "code",
   "execution_count": 1,
   "outputs": [],
   "source": [],
   "metadata": {
    "collapsed": false,
    "ExecuteTime": {
     "end_time": "2024-02-13T16:33:12.048489900Z",
     "start_time": "2024-02-13T16:33:12.035485900Z"
    }
   },
   "id": "f497ab46add1fc13"
  }
 ],
 "metadata": {
  "kernelspec": {
   "display_name": "Python 3",
   "language": "python",
   "name": "python3"
  },
  "language_info": {
   "codemirror_mode": {
    "name": "ipython",
    "version": 2
   },
   "file_extension": ".py",
   "mimetype": "text/x-python",
   "name": "python",
   "nbconvert_exporter": "python",
   "pygments_lexer": "ipython2",
   "version": "2.7.6"
  }
 },
 "nbformat": 4,
 "nbformat_minor": 5
}
